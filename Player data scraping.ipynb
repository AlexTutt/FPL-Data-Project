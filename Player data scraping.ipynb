{
 "cells": [
  {
   "cell_type": "code",
   "execution_count": 47,
   "metadata": {},
   "outputs": [],
   "source": [
    "import numpy as np\n",
    "import pandas as pd\n",
    "import requests\n",
    "from bs4 import BeautifulSoup\n",
    "import json"
   ]
  },
  {
   "cell_type": "code",
   "execution_count": 48,
   "metadata": {},
   "outputs": [],
   "source": [
    "\n",
    "url1 = 'https://understat.com/league'\n",
    "leagues = ['La_liga', 'EPL', 'Bundesliga', 'Serie_A', 'Ligue_1', 'RFPL']\n",
    "seasons = ['2014', '2015', '2016', '2017', '2018','2019']\n",
    "\n",
    "#donwloading xg data for premier league players\n",
    "urlepl = url1 + '/' + leagues[1] + '/' + seasons[-1]\n",
    "res = requests.get(urlepl)\n",
    "soup = BeautifulSoup(res.content, \"lxml\")\n",
    "scripts = soup.find_all('script')\n",
    "\n",
    "string_with_json_obj = ''\n",
    "for el in scripts:\n",
    "    if 'playersData' in el.text:\n",
    "        string_with_json_obj = el.text.strip()\n",
    "ind_start = string_with_json_obj.index(\"('\")+2\n",
    "ind_end = string_with_json_obj.index(\"')\")\n",
    "json_data = string_with_json_obj[ind_start:ind_end]\n",
    "\n",
    "json_data = json_data.encode('utf8').decode('unicode_escape')\n",
    "data1 = json.loads(json_data)\n",
    "df = pd.DataFrame(data1)\n",
    "df = df.set_index('player_name')\n"
   ]
  },
  {
   "cell_type": "code",
   "execution_count": 49,
   "metadata": {},
   "outputs": [],
   "source": [
    "#downloading fpl data\n",
    "from pandas.io.json import json_normalize\n",
    "link = \"https://fantasy.premierleague.com/api/bootstrap-static/\"\n",
    "response = requests.get(link)\n",
    "data = json.loads(response.text)\n",
    "df1 = json_normalize(data['elements'])\n",
    "df1['full_name']=df1['first_name'] + ' ' + df1['second_name']\n",
    "df1 = df1.reset_index().set_index('full_name')\n",
    "        "
   ]
  },
  {
   "cell_type": "code",
   "execution_count": 50,
   "metadata": {},
   "outputs": [
    {
     "name": "stdout",
     "output_type": "stream",
     "text": [
      "<class 'pandas.core.frame.DataFrame'>\n",
      "Index: 625 entries, Jamie Vardy to Taylor Perry\n",
      "Data columns (total 71 columns):\n",
      "assists                         428 non-null object\n",
      "games                           428 non-null object\n",
      "goals                           428 non-null object\n",
      "id                              428 non-null object\n",
      "key_passes                      428 non-null object\n",
      "npg                             428 non-null object\n",
      "npxG                            428 non-null object\n",
      "position                        428 non-null object\n",
      "red_cards                       428 non-null object\n",
      "shots                           428 non-null object\n",
      "team_title                      428 non-null object\n",
      "time                            428 non-null object\n",
      "xA                              428 non-null object\n",
      "xG                              428 non-null object\n",
      "xGBuildup                       428 non-null object\n",
      "xGChain                         428 non-null object\n",
      "yellow_cards                    428 non-null object\n",
      "index                           559 non-null float64\n",
      "assists                         559 non-null float64\n",
      "bonus                           559 non-null float64\n",
      "bps                             559 non-null float64\n",
      "chance_of_playing_next_round    345 non-null float64\n",
      "chance_of_playing_this_round    333 non-null float64\n",
      "clean_sheets                    559 non-null float64\n",
      "code                            559 non-null float64\n",
      "cost_change_event               559 non-null float64\n",
      "cost_change_event_fall          559 non-null float64\n",
      "cost_change_start               559 non-null float64\n",
      "cost_change_start_fall          559 non-null float64\n",
      "creativity                      559 non-null object\n",
      "dreamteam_count                 559 non-null float64\n",
      "element_type                    559 non-null float64\n",
      "ep_next                         559 non-null object\n",
      "ep_this                         559 non-null object\n",
      "event_points                    559 non-null float64\n",
      "first_name                      559 non-null object\n",
      "form                            559 non-null object\n",
      "goals_conceded                  559 non-null float64\n",
      "goals_scored                    559 non-null float64\n",
      "ict_index                       559 non-null object\n",
      "id                              559 non-null float64\n",
      "in_dreamteam                    559 non-null object\n",
      "influence                       559 non-null object\n",
      "minutes                         559 non-null float64\n",
      "news                            559 non-null object\n",
      "news_added                      345 non-null object\n",
      "now_cost                        559 non-null float64\n",
      "own_goals                       559 non-null float64\n",
      "penalties_missed                559 non-null float64\n",
      "penalties_saved                 559 non-null float64\n",
      "photo                           559 non-null object\n",
      "points_per_game                 559 non-null object\n",
      "red_cards                       559 non-null float64\n",
      "saves                           559 non-null float64\n",
      "second_name                     559 non-null object\n",
      "selected_by_percent             559 non-null object\n",
      "special                         559 non-null object\n",
      "squad_number                    0 non-null object\n",
      "status                          559 non-null object\n",
      "team                            559 non-null float64\n",
      "team_code                       559 non-null float64\n",
      "threat                          559 non-null object\n",
      "total_points                    559 non-null float64\n",
      "transfers_in                    559 non-null float64\n",
      "transfers_in_event              559 non-null float64\n",
      "transfers_out                   559 non-null float64\n",
      "transfers_out_event             559 non-null float64\n",
      "value_form                      559 non-null object\n",
      "value_season                    559 non-null object\n",
      "web_name                        559 non-null object\n",
      "yellow_cards                    559 non-null float64\n",
      "dtypes: float64(33), object(38)\n",
      "memory usage: 351.6+ KB\n"
     ]
    }
   ],
   "source": [
    "#combining the two dataframes, need to do some data cleaning and data not pulling through for some players due to names eg Wesley\n",
    "df2 = pd.concat([df, df1], axis=1, sort=False)\n",
    "df2.info()"
   ]
  },
  {
   "cell_type": "code",
   "execution_count": 21,
   "metadata": {},
   "outputs": [],
   "source": [
    "#returns highest point scorers from each position\n",
    "def max_point_players(df):\n",
    "    max_points = []\n",
    "    maxplayercost = 0\n",
    "    for i in range(1,5):\n",
    "        dfpos = df.loc[df['element_type']==i]\n",
    "        player = dfpos['total_points'].idxmax()\n",
    "        maxplayercost=maxplayercost+df.loc[player]['now_cost']\n",
    "        max_points.append(player)\n",
    "    return max_points, maxplayercost\n",
    "    \n",
    "    \n"
   ]
  },
  {
   "cell_type": "code",
   "execution_count": 45,
   "metadata": {},
   "outputs": [],
   "source": [
    "#basic optimiser for fpl team\n",
    "def optimal_team(budget,df):\n",
    "    gk = 2\n",
    "    defender = 5\n",
    "    mid = 5\n",
    "    forw = 3\n",
    "    positions = {1:1,2:4,3:4,4:2}\n",
    "    opt_team = []\n",
    "    i=0\n",
    "    opt_team=opt_team + max_point_players(df)[0]\n",
    "    budget=budget-max_point_players(df)[1]\n",
    "    dftemp=df.copy()\n",
    "    dftemp['ppm']=dftemp['total_points']/dftemp['now_cost']\n",
    "    dftemp=dftemp.sort_values(['ppm'],ascending=False)\n",
    "    while len(opt_team)<15:\n",
    "        player_pos = dftemp.iloc[i]['element_type']\n",
    "        player_name = dftemp.iloc[i].name\n",
    "        player_cost = dftemp.iloc[i]['now_cost']\n",
    "        if player_name not in opt_team:\n",
    "            if budget>=player_cost:\n",
    "                if positions[player_pos]>0:\n",
    "                    opt_team.append(player_name)\n",
    "                    positions[player_pos]=positions[player_pos]-1\n",
    "                    budget=budget-player_cost\n",
    "        i+=1\n",
    "    return opt_team, budget  \n",
    "        "
   ]
  },
  {
   "cell_type": "code",
   "execution_count": 46,
   "metadata": {},
   "outputs": [
    {
     "data": {
      "text/plain": [
       "(['Mathew Ryan',\n",
       "  'John Lundstram',\n",
       "  'Sadio Mané',\n",
       "  'Jamie Vardy',\n",
       "  'George Baldock',\n",
       "  'Aaron Ramsdale',\n",
       "  'Çaglar Söyüncü',\n",
       "  'Lewis Dunk',\n",
       "  \"Jack O'Connell\",\n",
       "  'Tammy Abraham',\n",
       "  'Scott McTominay',\n",
       "  'Teemu Pukki',\n",
       "  'Youri Tielemans',\n",
       "  'John McGinn',\n",
       "  'Mason Mount'],\n",
       " 65.0)"
      ]
     },
     "execution_count": 46,
     "metadata": {},
     "output_type": "execute_result"
    }
   ],
   "source": [
    "df3=df1[['element_type','now_cost','total_points']]\n",
    "#test functions\n",
    "max_point_players(df3)\n",
    "optimal_team(1000,df3)"
   ]
  },
  {
   "cell_type": "code",
   "execution_count": null,
   "metadata": {},
   "outputs": [],
   "source": []
  },
  {
   "cell_type": "code",
   "execution_count": null,
   "metadata": {},
   "outputs": [],
   "source": []
  },
  {
   "cell_type": "code",
   "execution_count": 99,
   "metadata": {},
   "outputs": [],
   "source": []
  },
  {
   "cell_type": "code",
   "execution_count": 94,
   "metadata": {},
   "outputs": [],
   "source": []
  },
  {
   "cell_type": "code",
   "execution_count": null,
   "metadata": {},
   "outputs": [],
   "source": []
  },
  {
   "cell_type": "code",
   "execution_count": null,
   "metadata": {},
   "outputs": [],
   "source": []
  },
  {
   "cell_type": "code",
   "execution_count": null,
   "metadata": {},
   "outputs": [],
   "source": []
  }
 ],
 "metadata": {
  "kernelspec": {
   "display_name": "Python 3",
   "language": "python",
   "name": "python3"
  },
  "language_info": {
   "codemirror_mode": {
    "name": "ipython",
    "version": 3
   },
   "file_extension": ".py",
   "mimetype": "text/x-python",
   "name": "python",
   "nbconvert_exporter": "python",
   "pygments_lexer": "ipython3",
   "version": "3.7.0"
  }
 },
 "nbformat": 4,
 "nbformat_minor": 2
}
