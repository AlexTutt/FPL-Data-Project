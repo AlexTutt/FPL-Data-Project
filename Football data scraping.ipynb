{
 "cells": [
  {
   "cell_type": "code",
   "execution_count": 6,
   "metadata": {},
   "outputs": [],
   "source": [
    "import numpy as np\n",
    "import pandas as pd\n",
    "import requests\n",
    "from bs4 import BeautifulSoup\n",
    "import json"
   ]
  },
  {
   "cell_type": "code",
   "execution_count": 7,
   "metadata": {},
   "outputs": [],
   "source": [
    "\n",
    "url1 = 'https://understat.com/league'\n",
    "leagues = ['La_liga', 'EPL', 'Bundesliga', 'Serie_A', 'Ligue_1', 'RFPL']\n",
    "seasons = ['2014', '2015', '2016', '2017', '2018','2019']\n",
    "\n",
    "#donwloading xg data for premier league players\n",
    "urlepl = url1 + '/' + leagues[1] + '/' + seasons[-1]\n",
    "res = requests.get(urlepl)\n",
    "soup = BeautifulSoup(res.content, \"lxml\")\n",
    "scripts = soup.find_all('script')\n",
    "\n",
    "string_with_json_obj = ''\n",
    "for el in scripts:\n",
    "    if 'playersData' in el.text:\n",
    "        string_with_json_obj = el.text.strip()\n",
    "ind_start = string_with_json_obj.index(\"('\")+2\n",
    "ind_end = string_with_json_obj.index(\"')\")\n",
    "json_data = string_with_json_obj[ind_start:ind_end]\n",
    "\n",
    "json_data = json_data.encode('utf8').decode('unicode_escape')\n",
    "data1 = json.loads(json_data)\n",
    "df = pd.DataFrame(data1)\n",
    "df = df.set_index('player_name')\n"
   ]
  },
  {
   "cell_type": "code",
   "execution_count": 8,
   "metadata": {},
   "outputs": [],
   "source": [
    "#downloading fpl data\n",
    "from pandas.io.json import json_normalize\n",
    "link = \"https://fantasy.premierleague.com/api/bootstrap-static/\"\n",
    "response = requests.get(link)\n",
    "data = json.loads(response.text)\n",
    "df1 = json_normalize(data['elements'])\n",
    "df1['full_name']=df1['first_name'] + ' ' + df1['second_name']\n",
    "df1 = df1.reset_index().set_index('full_name')\n",
    "        "
   ]
  },
  {
   "cell_type": "code",
   "execution_count": 9,
   "metadata": {},
   "outputs": [],
   "source": [
    "#combining the two dataframes, need to do some data cleaning and data not pulling through for some players due to names eg Wesley\n",
    "df2 = pd.concat([df, df1], axis=1, sort=False)\n",
    "df2.info()"
   ]
  },
  {
   "cell_type": "code",
   "execution_count": 21,
   "metadata": {},
   "outputs": [],
   "source": [
    "#returns highest point scorers from each position\n",
    "def max_point_players(df):\n",
    "    max_points = []\n",
    "    maxplayercost = 0\n",
    "    for i in range(1,5):\n",
    "        dfpos = df.loc[df['element_type']==i]\n",
    "        player = dfpos['total_points'].idxmax()\n",
    "        maxplayercost=maxplayercost+df.loc[player]['now_cost']\n",
    "        max_points.append(player)\n",
    "    return max_points, maxplayercost\n",
    "    \n",
    "    \n"
   ]
  },
  {
   "cell_type": "code",
   "execution_count": 45,
   "metadata": {},
   "outputs": [],
   "source": [
    "#basic optimiser for fpl team\n",
    "def optimal_team(budget,df):\n",
    "    gk = 2\n",
    "    defender = 5\n",
    "    mid = 5\n",
    "    forw = 3\n",
    "    positions = {1:1,2:4,3:4,4:2}\n",
    "    opt_team = []\n",
    "    i=0\n",
    "    opt_team=opt_team + max_point_players(df)[0]\n",
    "    budget=budget-max_point_players(df)[1]\n",
    "    dftemp=df.copy()\n",
    "    dftemp['ppm']=dftemp['total_points']/dftemp['now_cost']\n",
    "    dftemp=dftemp.sort_values(['ppm'],ascending=False)\n",
    "    while len(opt_team)<15:\n",
    "        player_pos = dftemp.iloc[i]['element_type']\n",
    "        player_name = dftemp.iloc[i].name\n",
    "        player_cost = dftemp.iloc[i]['now_cost']\n",
    "        if player_name not in opt_team:\n",
    "            if budget>=player_cost:\n",
    "                if positions[player_pos]>0:\n",
    "                    opt_team.append(player_name)\n",
    "                    positions[player_pos]=positions[player_pos]-1\n",
    "                    budget=budget-player_cost\n",
    "        i+=1\n",
    "    return opt_team, budget  \n",
    "        "
   ]
  },
  {
   "cell_type": "code",
   "execution_count": 46,
   "metadata": {},
   "outputs": [
    {
     "data": {
      "text/plain": [
       "(['Mathew Ryan',\n",
       "  'John Lundstram',\n",
       "  'Sadio Mané',\n",
       "  'Jamie Vardy',\n",
       "  'George Baldock',\n",
       "  'Aaron Ramsdale',\n",
       "  'Çaglar Söyüncü',\n",
       "  'Lewis Dunk',\n",
       "  \"Jack O'Connell\",\n",
       "  'Tammy Abraham',\n",
       "  'Scott McTominay',\n",
       "  'Teemu Pukki',\n",
       "  'Youri Tielemans',\n",
       "  'John McGinn',\n",
       "  'Mason Mount'],\n",
       " 65.0)"
      ]
     },
     "execution_count": 46,
     "metadata": {},
     "output_type": "execute_result"
    }
   ],
   "source": [
    "df3=df1[['element_type','now_cost','total_points']]\n",
    "#test functions\n",
    "max_point_players(df3)\n",
    "optimal_team(1000,df3)"
   ]
  },
  {
   "cell_type": "code",
   "execution_count": null,
   "metadata": {},
   "outputs": [],
   "source": []
  },
  {
   "cell_type": "code",
   "execution_count": null,
   "metadata": {},
   "outputs": [],
   "source": []
  },
  {
   "cell_type": "code",
   "execution_count": 99,
   "metadata": {},
   "outputs": [],
   "source": []
  },
  {
   "cell_type": "code",
   "execution_count": 94,
   "metadata": {},
   "outputs": [],
   "source": []
  },
  {
   "cell_type": "code",
   "execution_count": null,
   "metadata": {},
   "outputs": [],
   "source": []
  },
  {
   "cell_type": "code",
   "execution_count": null,
   "metadata": {},
   "outputs": [],
   "source": []
  },
  {
   "cell_type": "code",
   "execution_count": null,
   "metadata": {},
   "outputs": [],
   "source": []
  }
 ],
 "metadata": {
  "kernelspec": {
   "display_name": "Python 3",
   "language": "python",
   "name": "python3"
  },
  "language_info": {
   "codemirror_mode": {
    "name": "ipython",
    "version": 3
   },
   "file_extension": ".py",
   "mimetype": "text/x-python",
   "name": "python",
   "nbconvert_exporter": "python",
   "pygments_lexer": "ipython3",
   "version": "3.7.0"
  }
 },
 "nbformat": 4,
 "nbformat_minor": 2
}
